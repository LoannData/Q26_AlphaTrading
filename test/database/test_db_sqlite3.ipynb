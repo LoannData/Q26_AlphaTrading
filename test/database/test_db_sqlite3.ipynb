{
 "cells": [
  {
   "cell_type": "code",
   "execution_count": 2,
   "metadata": {},
   "outputs": [],
   "source": [
    "from alphatrading.system.db_methods import method_sqlite3 as sql "
   ]
  },
  {
   "cell_type": "code",
   "execution_count": 4,
   "metadata": {},
   "outputs": [],
   "source": [
    "db = sql.SQL()"
   ]
  },
  {
   "cell_type": "code",
   "execution_count": 5,
   "metadata": {},
   "outputs": [],
   "source": [
    "db.connect_database(\"./example_db_sqlite3_1\")"
   ]
  },
  {
   "cell_type": "code",
   "execution_count": 6,
   "metadata": {},
   "outputs": [
    {
     "name": "stdout",
     "output_type": "stream",
     "text": [
      "CREATE TABLE myTable (id integer, prop1 integer, prop2 real, prop3 text, prop4 text)\n"
     ]
    }
   ],
   "source": [
    "table_name = \"myTable\"\n",
    "parameters = {\n",
    "    \"prop1\": \"int\", \n",
    "    \"prop2\": \"float\", \n",
    "    \"prop3\": \"str\", \n",
    "    \"prop4\": \"str\"\n",
    "}\n",
    "\n",
    "db.create_table(table_name, parameters)"
   ]
  },
  {
   "cell_type": "code",
   "execution_count": 7,
   "metadata": {},
   "outputs": [
    {
     "name": "stdout",
     "output_type": "stream",
     "text": [
      "CREATE TABLE myTable2 (id integer, prop1 integer, prop2 real, prop3 text, prop4 text)\n"
     ]
    }
   ],
   "source": [
    "table_name = \"myTable2\"\n",
    "parameters = {\n",
    "    \"prop1\": \"int\", \n",
    "    \"prop2\": \"float\", \n",
    "    \"prop3\": \"str\", \n",
    "    \"prop4\": \"str\"\n",
    "}\n",
    "\n",
    "db.create_table(table_name, parameters)"
   ]
  },
  {
   "cell_type": "code",
   "execution_count": 8,
   "metadata": {},
   "outputs": [
    {
     "name": "stdout",
     "output_type": "stream",
     "text": [
      "SELECT id FROM myTable\n",
      "INSERT INTO myTable VALUES (1,2,3.1471,'Hello!','hello')\n"
     ]
    }
   ],
   "source": [
    "a = \"hello\"\n",
    "\n",
    "value = [2, 3.1471, \"Hello!\", a]\n",
    "db.insert(\"myTable\", value)\n"
   ]
  },
  {
   "cell_type": "code",
   "execution_count": 9,
   "metadata": {},
   "outputs": [
    {
     "name": "stdout",
     "output_type": "stream",
     "text": [
      "SELECT id FROM myTable\n",
      "INSERT INTO myTable VALUES (2,4,154.2,'yeah!','ohhh')\n"
     ]
    }
   ],
   "source": [
    "db.insert(\"myTable\", [4, 154.2, \"yeah!\", \"ohhh\"])"
   ]
  },
  {
   "cell_type": "code",
   "execution_count": 10,
   "metadata": {},
   "outputs": [
    {
     "name": "stdout",
     "output_type": "stream",
     "text": [
      "SELECT name FROM sqlite_master WHERE type='table'\n"
     ]
    }
   ],
   "source": [
    "table_list = db.get_table_list()"
   ]
  },
  {
   "cell_type": "code",
   "execution_count": 11,
   "metadata": {},
   "outputs": [
    {
     "data": {
      "text/plain": [
       "['myTable', 'myTable2']"
      ]
     },
     "execution_count": 11,
     "metadata": {},
     "output_type": "execute_result"
    }
   ],
   "source": [
    "table_list"
   ]
  },
  {
   "cell_type": "code",
   "execution_count": 12,
   "metadata": {},
   "outputs": [
    {
     "name": "stdout",
     "output_type": "stream",
     "text": [
      "SELECT * FROM myTable \n"
     ]
    },
    {
     "data": {
      "text/plain": [
       "[(1, 2, 3.1471, 'Hello!', 'hello'), (2, 4, 154.2, 'yeah!', 'ohhh')]"
      ]
     },
     "execution_count": 12,
     "metadata": {},
     "output_type": "execute_result"
    }
   ],
   "source": [
    "db.select(table = \"myTable\")"
   ]
  },
  {
   "cell_type": "code",
   "execution_count": 13,
   "metadata": {},
   "outputs": [
    {
     "name": "stdout",
     "output_type": "stream",
     "text": [
      "SELECT * FROM myTable WHERE id<6 OR prop3='Hello!' ORDER BY id DESC\n"
     ]
    },
    {
     "data": {
      "text/plain": [
       "[(2, 4, 154.2, 'yeah!', 'ohhh'), (1, 2, 3.1471, 'Hello!', 'hello')]"
      ]
     },
     "execution_count": 13,
     "metadata": {},
     "output_type": "execute_result"
    }
   ],
   "source": [
    "db.select(table = \"myTable\", \n",
    "          where_=[\n",
    "              {\"object\":\"id\", \"operator\":\"<\", \"value\":6}, \n",
    "              \"or\",\n",
    "              {\"object\":\"prop3\", \"operator\":\"==\", \"value\":\"Hello!\"}\n",
    "              ], \n",
    "          orderby_ = [\"id\"], \n",
    "          ordering = \"DESC\")"
   ]
  },
  {
   "cell_type": "code",
   "execution_count": 14,
   "metadata": {},
   "outputs": [
    {
     "name": "stdout",
     "output_type": "stream",
     "text": [
      "DELETE FROM  myTable WHERE id=3 \n"
     ]
    }
   ],
   "source": [
    "db.delete(\"myTable\", where_= [\n",
    "    {\"object\":\"id\", \"operator\":\"==\", \"value\":3}\n",
    "])"
   ]
  },
  {
   "cell_type": "code",
   "execution_count": null,
   "metadata": {},
   "outputs": [],
   "source": []
  }
 ],
 "metadata": {
  "interpreter": {
   "hash": "7de5329f75fe504f94ef1a420514458e3a37aa64ff3edea2897ea3aa3db1bb1d"
  },
  "kernelspec": {
   "display_name": "Python 3.8.3 64-bit ('base': conda)",
   "name": "python3"
  },
  "language_info": {
   "codemirror_mode": {
    "name": "ipython",
    "version": 3
   },
   "file_extension": ".py",
   "mimetype": "text/x-python",
   "name": "python",
   "nbconvert_exporter": "python",
   "pygments_lexer": "ipython3",
   "version": "3.8.3"
  },
  "orig_nbformat": 4
 },
 "nbformat": 4,
 "nbformat_minor": 2
}
